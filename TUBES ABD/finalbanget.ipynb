{
 "cells": [
  {
   "cell_type": "code",
   "execution_count": 2,
   "metadata": {},
   "outputs": [],
   "source": [
    "import pyspark\n",
    "from pyspark.sql import SparkSession\n",
    "\n",
    "from pyspark.sql.functions import year, col, to_date\n",
    "\n",
    "from pyspark.ml.feature import VectorAssembler\n",
    "from pyspark.ml.clustering import KMeans\n",
    "from pyspark.ml.feature import Imputer\n",
    "\n",
    "import matplotlib.pyplot as plt\n",
    "import seaborn as sns"
   ]
  },
  {
   "cell_type": "code",
   "execution_count": 3,
   "metadata": {},
   "outputs": [],
   "source": [
    "spark = SparkSession.builder \\\n",
    "    .master(\"local[*]\") \\\n",
    "    .appName('Motor Vehicle Collisions Analysis') \\\n",
    "    .getOrCreate()"
   ]
  },
  {
   "cell_type": "code",
   "execution_count": 4,
   "metadata": {},
   "outputs": [
    {
     "name": "stdout",
     "output_type": "stream",
     "text": [
      "root\n",
      " |-- CRASH DATE: string (nullable = true)\n",
      " |-- CRASH TIME: string (nullable = true)\n",
      " |-- BOROUGH: string (nullable = true)\n",
      " |-- ZIP CODE: string (nullable = true)\n",
      " |-- LATITUDE: double (nullable = true)\n",
      " |-- LONGITUDE: double (nullable = true)\n",
      " |-- LOCATION: string (nullable = true)\n",
      " |-- ON STREET NAME: string (nullable = true)\n",
      " |-- CROSS STREET NAME: string (nullable = true)\n",
      " |-- OFF STREET NAME: string (nullable = true)\n",
      " |-- NUMBER OF PERSONS INJURED: string (nullable = true)\n",
      " |-- NUMBER OF PERSONS KILLED: integer (nullable = true)\n",
      " |-- NUMBER OF PEDESTRIANS INJURED: integer (nullable = true)\n",
      " |-- NUMBER OF PEDESTRIANS KILLED: integer (nullable = true)\n",
      " |-- NUMBER OF CYCLIST INJURED: integer (nullable = true)\n",
      " |-- NUMBER OF CYCLIST KILLED: string (nullable = true)\n",
      " |-- NUMBER OF MOTORIST INJURED: string (nullable = true)\n",
      " |-- NUMBER OF MOTORIST KILLED: integer (nullable = true)\n",
      " |-- CONTRIBUTING FACTOR VEHICLE 1: string (nullable = true)\n",
      " |-- CONTRIBUTING FACTOR VEHICLE 2: string (nullable = true)\n",
      " |-- CONTRIBUTING FACTOR VEHICLE 3: string (nullable = true)\n",
      " |-- CONTRIBUTING FACTOR VEHICLE 4: string (nullable = true)\n",
      " |-- CONTRIBUTING FACTOR VEHICLE 5: string (nullable = true)\n",
      " |-- COLLISION_ID: integer (nullable = true)\n",
      " |-- VEHICLE TYPE CODE 1: string (nullable = true)\n",
      " |-- VEHICLE TYPE CODE 2: string (nullable = true)\n",
      " |-- VEHICLE TYPE CODE 3: string (nullable = true)\n",
      " |-- VEHICLE TYPE CODE 4: string (nullable = true)\n",
      " |-- VEHICLE TYPE CODE 5: string (nullable = true)\n",
      "\n"
     ]
    }
   ],
   "source": [
    "data_path = 'Motor_Vehicle_Collisions_-_Crashes.csv'\n",
    "df = spark.read.csv(data_path, header=True, inferSchema=True)\n",
    "df.printSchema()"
   ]
  },
  {
   "cell_type": "code",
   "execution_count": 5,
   "metadata": {},
   "outputs": [
    {
     "name": "stdout",
     "output_type": "stream",
     "text": [
      "+----------+----------+---------+--------+---------+----------+--------------------+--------------------+--------------------+--------------------+-------------------------+------------------------+-----------------------------+----------------------------+-------------------------+------------------------+--------------------------+-------------------------+-----------------------------+-----------------------------+-----------------------------+-----------------------------+-----------------------------+------------+--------------------+--------------------+-------------------+-------------------+-------------------+\n",
      "|CRASH DATE|CRASH TIME|  BOROUGH|ZIP CODE| LATITUDE| LONGITUDE|            LOCATION|      ON STREET NAME|   CROSS STREET NAME|     OFF STREET NAME|NUMBER OF PERSONS INJURED|NUMBER OF PERSONS KILLED|NUMBER OF PEDESTRIANS INJURED|NUMBER OF PEDESTRIANS KILLED|NUMBER OF CYCLIST INJURED|NUMBER OF CYCLIST KILLED|NUMBER OF MOTORIST INJURED|NUMBER OF MOTORIST KILLED|CONTRIBUTING FACTOR VEHICLE 1|CONTRIBUTING FACTOR VEHICLE 2|CONTRIBUTING FACTOR VEHICLE 3|CONTRIBUTING FACTOR VEHICLE 4|CONTRIBUTING FACTOR VEHICLE 5|COLLISION_ID| VEHICLE TYPE CODE 1| VEHICLE TYPE CODE 2|VEHICLE TYPE CODE 3|VEHICLE TYPE CODE 4|VEHICLE TYPE CODE 5|\n",
      "+----------+----------+---------+--------+---------+----------+--------------------+--------------------+--------------------+--------------------+-------------------------+------------------------+-----------------------------+----------------------------+-------------------------+------------------------+--------------------------+-------------------------+-----------------------------+-----------------------------+-----------------------------+-----------------------------+-----------------------------+------------+--------------------+--------------------+-------------------+-------------------+-------------------+\n",
      "|09/11/2021|      2:39|     NULL|    NULL|     NULL|      NULL|                NULL|WHITESTONE EXPRES...|           20 AVENUE|                NULL|                        2|                       0|                            0|                           0|                        0|                       0|                         2|                        0|         Aggressive Drivin...|                  Unspecified|                         NULL|                         NULL|                         NULL|     4455765|               Sedan|               Sedan|               NULL|               NULL|               NULL|\n",
      "|03/26/2022|     11:45|     NULL|    NULL|     NULL|      NULL|                NULL|QUEENSBORO BRIDGE...|                NULL|                NULL|                        1|                       0|                            0|                           0|                        0|                       0|                         1|                        0|            Pavement Slippery|                         NULL|                         NULL|                         NULL|                         NULL|     4513547|               Sedan|                NULL|               NULL|               NULL|               NULL|\n",
      "|06/29/2022|      6:55|     NULL|    NULL|     NULL|      NULL|                NULL|  THROGS NECK BRIDGE|                NULL|                NULL|                        0|                       0|                            0|                           0|                        0|                       0|                         0|                        0|         Following Too Clo...|                  Unspecified|                         NULL|                         NULL|                         NULL|     4541903|               Sedan|       Pick-up Truck|               NULL|               NULL|               NULL|\n",
      "|09/11/2021|      9:35| BROOKLYN|   11208|40.667202|  -73.8665|(40.667202, -73.8...|                NULL|                NULL|1211      LORING ...|                        0|                       0|                            0|                           0|                        0|                       0|                         0|                        0|                  Unspecified|                         NULL|                         NULL|                         NULL|                         NULL|     4456314|               Sedan|                NULL|               NULL|               NULL|               NULL|\n",
      "|12/14/2021|      8:13| BROOKLYN|   11233|40.683304|-73.917274|(40.683304, -73.9...|     SARATOGA AVENUE|      DECATUR STREET|                NULL|                        0|                       0|                            0|                           0|                        0|                       0|                         0|                        0|                         NULL|                         NULL|                         NULL|                         NULL|                         NULL|     4486609|                NULL|                NULL|               NULL|               NULL|               NULL|\n",
      "|04/14/2021|     12:47|     NULL|    NULL|     NULL|      NULL|                NULL|MAJOR DEEGAN EXPR...|                NULL|                NULL|                        0|                       0|                            0|                           0|                        0|                       0|                         0|                        0|                  Unspecified|                  Unspecified|                         NULL|                         NULL|                         NULL|     4407458|                Dump|               Sedan|               NULL|               NULL|               NULL|\n",
      "|12/14/2021|     17:05|     NULL|    NULL|40.709183|-73.956825|(40.709183, -73.9...|BROOKLYN QUEENS E...|                NULL|                NULL|                        0|                       0|                            0|                           0|                        0|                       0|                         0|                        0|          Passing Too Closely|                  Unspecified|                         NULL|                         NULL|                         NULL|     4486555|               Sedan|Tractor Truck Diesel|               NULL|               NULL|               NULL|\n",
      "|12/14/2021|      8:17|    BRONX|   10475| 40.86816| -73.83148|(40.86816, -73.83...|                NULL|                NULL|344       BAYCHES...|                        2|                       0|                            0|                           0|                        0|                       0|                         2|                        0|                  Unspecified|                  Unspecified|                         NULL|                         NULL|                         NULL|     4486660|               Sedan|               Sedan|               NULL|               NULL|               NULL|\n",
      "|12/14/2021|     21:10| BROOKLYN|   11207| 40.67172|  -73.8971|(40.67172, -73.8971)|                NULL|                NULL|2047      PITKIN ...|                        0|                       0|                            0|                           0|                        0|                       0|                         0|                        0|          Driver Inexperience|                  Unspecified|                         NULL|                         NULL|                         NULL|     4487074|               Sedan|                NULL|               NULL|               NULL|               NULL|\n",
      "|12/14/2021|     14:58|MANHATTAN|   10017| 40.75144| -73.97397|(40.75144, -73.97...|            3 AVENUE|      EAST 43 STREET|                NULL|                        0|                       0|                            0|                           0|                        0|                       0|                         0|                        0|          Passing Too Closely|                  Unspecified|                         NULL|                         NULL|                         NULL|     4486519|               Sedan|Station Wagon/Spo...|               NULL|               NULL|               NULL|\n",
      "|12/13/2021|      0:34|     NULL|    NULL|40.701275| -73.88887|(40.701275, -73.8...|       MYRTLE AVENUE|                NULL|                NULL|                        0|                       0|                            0|                           0|                        0|                       0|                         0|                        0|         Passing or Lane U...|                  Unspecified|                         NULL|                         NULL|                         NULL|     4486934|Station Wagon/Spo...|                NULL|               NULL|               NULL|               NULL|\n",
      "|12/14/2021|     16:50|   QUEENS|   11413|40.675884| -73.75577|(40.675884, -73.7...|SPRINGFIELD BOULE...|     EAST GATE PLAZA|                NULL|                        0|                       0|                            0|                           0|                        0|                       0|                         0|                        0|           Turning Improperly|                  Unspecified|                         NULL|                         NULL|                         NULL|     4487127|               Sedan|Station Wagon/Spo...|               NULL|               NULL|               NULL|\n",
      "|12/14/2021|      8:30|     NULL|    NULL|     NULL|      NULL|                NULL|            broadway|west 80 street -w...|                NULL|                        0|                       0|                            0|                           0|                        0|                       0|                         0|                        0|         Unsafe Lane Changing|                  Unspecified|                         NULL|                         NULL|                         NULL|     4486634|Station Wagon/Spo...|               Sedan|               NULL|               NULL|               NULL|\n",
      "|12/14/2021|      0:59|     NULL|    NULL| 40.59662| -74.00231|(40.59662, -74.00...|        BELT PARKWAY|                NULL|                NULL|                        0|                       0|                            0|                           0|                        0|                       0|                         0|                        0|                 Unsafe Speed|                         NULL|                         NULL|                         NULL|                         NULL|     4486564|               Sedan|                NULL|               NULL|               NULL|               NULL|\n",
      "|12/14/2021|     23:10|   QUEENS|   11434| 40.66684| -73.78941|(40.66684, -73.78...|NORTH CONDUIT AVENUE|          150 STREET|                NULL|                        2|                       0|                            0|                           0|                        0|                       0|                         2|                        0|         Reaction to Uninv...|                  Unspecified|                         NULL|                         NULL|                         NULL|     4486635|               Sedan|               Sedan|               NULL|               NULL|               NULL|\n",
      "|12/14/2021|     17:58| BROOKLYN|   11217| 40.68158| -73.97463|(40.68158, -73.97...|                NULL|                NULL|480       DEAN ST...|                        0|                       0|                            0|                           0|                        0|                       0|                         0|                        0|          Passing Too Closely|                  Unspecified|                         NULL|                         NULL|                         NULL|     4486604|              Tanker|Station Wagon/Spo...|               NULL|               NULL|               NULL|\n",
      "|12/14/2021|     20:03| BROOKLYN|   11226| 40.65068| -73.95881|(40.65068, -73.95...|                NULL|                NULL|878       FLATBUS...|                        4|                       0|                            0|                           0|                        0|                       0|                         4|                        0|             Steering Failure|                         NULL|                         NULL|                         NULL|                         NULL|     4486991|               Sedan|                NULL|               NULL|               NULL|               NULL|\n",
      "|12/14/2021|      1:28|     NULL|    NULL|     NULL|      NULL|                NULL|       MEEKER AVENUE|      LORIMER STREET|                NULL|                        3|                       0|                            0|                           0|                        0|                       0|                         3|                        0|         Traffic Control D...|                  Unspecified|                         NULL|                         NULL|                         NULL|     4486284|Station Wagon/Spo...|Station Wagon/Spo...|               NULL|               NULL|               NULL|\n",
      "|12/11/2021|     19:43|    BRONX|   10463| 40.87262|-73.904686|(40.87262, -73.90...|WEST KINGSBRIDGE ...|        HEATH AVENUE|                NULL|                        1|                       0|                            0|                           0|                        0|                       0|                         1|                        0|                  Unspecified|                  Unspecified|                         NULL|                         NULL|                         NULL|     4487040|Station Wagon/Spo...|               Sedan|               NULL|               NULL|               NULL|\n",
      "|12/14/2021|     14:30|     NULL|    NULL|40.783268| -73.82485|(40.783268, -73.8...|WHITESTONE EXPRES...|                NULL|                NULL|                        0|                       0|                            0|                           0|                        0|                       0|                         0|                        0|         Following Too Clo...|                  Unspecified|                  Unspecified|                         NULL|                         NULL|     4486537|Station Wagon/Spo...|               Sedan|              Sedan|               NULL|               NULL|\n",
      "+----------+----------+---------+--------+---------+----------+--------------------+--------------------+--------------------+--------------------+-------------------------+------------------------+-----------------------------+----------------------------+-------------------------+------------------------+--------------------------+-------------------------+-----------------------------+-----------------------------+-----------------------------+-----------------------------+-----------------------------+------------+--------------------+--------------------+-------------------+-------------------+-------------------+\n",
      "only showing top 20 rows\n",
      "\n"
     ]
    }
   ],
   "source": [
    "# Menampilkan semua kolom\n",
    "df.select(\"*\").show()"
   ]
  },
  {
   "cell_type": "code",
   "execution_count": 6,
   "metadata": {},
   "outputs": [
    {
     "name": "stdout",
     "output_type": "stream",
     "text": [
      "CRASH DATE: 4341 unique values\n",
      "CRASH TIME: 1441 unique values\n",
      "BOROUGH: 7 unique values\n",
      "ZIP CODE: 237 unique values\n",
      "LATITUDE: 126786 unique values\n",
      "LONGITUDE: 98476 unique values\n",
      "LOCATION: 285153 unique values\n",
      "ON STREET NAME: 18480 unique values\n",
      "CROSS STREET NAME: 20267 unique values\n",
      "OFF STREET NAME: 228344 unique values\n",
      "NUMBER OF PERSONS INJURED: 34 unique values\n",
      "NUMBER OF PERSONS KILLED: 8 unique values\n",
      "NUMBER OF PEDESTRIANS INJURED: 15 unique values\n",
      "NUMBER OF PEDESTRIANS KILLED: 5 unique values\n",
      "NUMBER OF CYCLIST INJURED: 7 unique values\n",
      "NUMBER OF CYCLIST KILLED: 5 unique values\n",
      "NUMBER OF MOTORIST INJURED: 33 unique values\n",
      "NUMBER OF MOTORIST KILLED: 7 unique values\n",
      "CONTRIBUTING FACTOR VEHICLE 1: 62 unique values\n",
      "CONTRIBUTING FACTOR VEHICLE 2: 62 unique values\n",
      "CONTRIBUTING FACTOR VEHICLE 3: 52 unique values\n",
      "CONTRIBUTING FACTOR VEHICLE 4: 42 unique values\n",
      "CONTRIBUTING FACTOR VEHICLE 5: 31 unique values\n",
      "COLLISION_ID: 2089381 unique values\n",
      "VEHICLE TYPE CODE 1: 1658 unique values\n",
      "VEHICLE TYPE CODE 2: 1846 unique values\n",
      "VEHICLE TYPE CODE 3: 267 unique values\n",
      "VEHICLE TYPE CODE 4: 104 unique values\n",
      "VEHICLE TYPE CODE 5: 72 unique values\n"
     ]
    }
   ],
   "source": [
    "for column in df.columns:\n",
    "    unique_count = df.select(column).distinct().count()\n",
    "    print(f\"{column}: {unique_count} unique values\")"
   ]
  },
  {
   "cell_type": "code",
   "execution_count": 8,
   "metadata": {},
   "outputs": [],
   "source": [
    "# Mengonversi kolom 'CRASH DATE' menjadi tipe Date dengan format yang sesuai\n",
    "df = df.withColumn(\"CRASH DATE\", to_date(col(\"CRASH DATE\"), \"dd/MM/yyyy\"))\n",
    "\n",
    "# Menambahkan kolom tahun dengan menggunakan fungsi year\n",
    "df = df.withColumn(\"YEAR\", year(col(\"CRASH DATE\")))"
   ]
  },
  {
   "cell_type": "code",
   "execution_count": 9,
   "metadata": {},
   "outputs": [
    {
     "name": "stdout",
     "output_type": "stream",
     "text": [
      "root\n",
      " |-- YEAR: integer (nullable = true)\n",
      " |-- COLLISION_ID: integer (nullable = true)\n",
      " |-- BOROUGH: string (nullable = true)\n",
      " |-- NUMBER OF PERSONS INJURED: string (nullable = true)\n",
      " |-- NUMBER OF PERSONS KILLED: integer (nullable = true)\n",
      " |-- NUMBER OF PEDESTRIANS INJURED: integer (nullable = true)\n",
      " |-- NUMBER OF PEDESTRIANS KILLED: integer (nullable = true)\n",
      " |-- NUMBER OF CYCLIST INJURED: integer (nullable = true)\n",
      " |-- NUMBER OF CYCLIST KILLED: string (nullable = true)\n",
      " |-- NUMBER OF MOTORIST INJURED: string (nullable = true)\n",
      " |-- NUMBER OF MOTORIST KILLED: integer (nullable = true)\n",
      " |-- CONTRIBUTING FACTOR VEHICLE 1: string (nullable = true)\n",
      "\n"
     ]
    }
   ],
   "source": [
    "selected_columns = ['YEAR','COLLISION_ID', 'BOROUGH','NUMBER OF PERSONS INJURED', 'NUMBER OF PERSONS KILLED', 'NUMBER OF PEDESTRIANS INJURED', 'NUMBER OF PEDESTRIANS KILLED', 'NUMBER OF CYCLIST INJURED', 'NUMBER OF CYCLIST KILLED', 'NUMBER OF MOTORIST INJURED', 'NUMBER OF MOTORIST KILLED', 'CONTRIBUTING FACTOR VEHICLE 1']\n",
    "df_selected = df.select(selected_columns)\n",
    "df_selected.printSchema()"
   ]
  },
  {
   "cell_type": "code",
   "execution_count": 10,
   "metadata": {},
   "outputs": [],
   "source": [
    "# Summing up the injury and fatality related columns\n",
    "df_aggregated = df_selected.withColumn('Total Injured', \n",
    "                              col('NUMBER OF PERSONS INJURED') + \n",
    "                              col('NUMBER OF PEDESTRIANS INJURED') + \n",
    "                              col('NUMBER OF CYCLIST INJURED') + \n",
    "                              col('NUMBER OF MOTORIST INJURED')) \\\n",
    "                  .withColumn('Total Killed', \n",
    "                              col('NUMBER OF PERSONS KILLED') + \n",
    "                              col('NUMBER OF PEDESTRIANS KILLED') + \n",
    "                              col('NUMBER OF CYCLIST KILLED') + \n",
    "                              col('NUMBER OF MOTORIST KILLED'))"
   ]
  },
  {
   "cell_type": "code",
   "execution_count": 11,
   "metadata": {},
   "outputs": [
    {
     "name": "stdout",
     "output_type": "stream",
     "text": [
      "root\n",
      " |-- YEAR: integer (nullable = true)\n",
      " |-- COLLISION_ID: integer (nullable = true)\n",
      " |-- BOROUGH: string (nullable = true)\n",
      " |-- Total Killed: double (nullable = true)\n",
      " |-- Total Injured: double (nullable = true)\n",
      " |-- CONTRIBUTING FACTOR VEHICLE 1: string (nullable = true)\n",
      "\n"
     ]
    }
   ],
   "source": [
    "selected_columns = ['YEAR','COLLISION_ID', 'BOROUGH', 'Total Killed', 'Total Injured','CONTRIBUTING FACTOR VEHICLE 1']\n",
    "df = df_aggregated.select(selected_columns)\n",
    "df.printSchema()"
   ]
  },
  {
   "cell_type": "code",
   "execution_count": 12,
   "metadata": {},
   "outputs": [],
   "source": [
    "# Handle null values\n",
    "imputer = Imputer(inputCols=[\"Total Killed\", \"Total Injured\"], \n",
    "                  outputCols=[\"Total Killed\", \"Total Injured\"])\n",
    "df = imputer.fit(df).transform(df)"
   ]
  },
  {
   "cell_type": "code",
   "execution_count": 13,
   "metadata": {},
   "outputs": [],
   "source": [
    "# Assemble features\n",
    "vecAssembler = VectorAssembler(inputCols=[\"Total Killed\", \"Total Injured\"], outputCol=\"features\")\n",
    "df_kmeans = vecAssembler.transform(df)"
   ]
  },
  {
   "cell_type": "code",
   "execution_count": 14,
   "metadata": {},
   "outputs": [],
   "source": [
    "# KMeans model with 3 clusters\n",
    "kmeans = KMeans().setK(3).setSeed(1)\n",
    "model = kmeans.fit(df_kmeans)"
   ]
  },
  {
   "cell_type": "code",
   "execution_count": 15,
   "metadata": {},
   "outputs": [],
   "source": [
    "# Predictions\n",
    "predictions = model.transform(df_kmeans)"
   ]
  },
  {
   "cell_type": "code",
   "execution_count": 16,
   "metadata": {},
   "outputs": [],
   "source": [
    "output = predictions.toPandas() "
   ]
  },
  {
   "cell_type": "code",
   "execution_count": 17,
   "metadata": {},
   "outputs": [
    {
     "data": {
      "text/html": [
       "<div>\n",
       "<style scoped>\n",
       "    .dataframe tbody tr th:only-of-type {\n",
       "        vertical-align: middle;\n",
       "    }\n",
       "\n",
       "    .dataframe tbody tr th {\n",
       "        vertical-align: top;\n",
       "    }\n",
       "\n",
       "    .dataframe thead th {\n",
       "        text-align: right;\n",
       "    }\n",
       "</style>\n",
       "<table border=\"1\" class=\"dataframe\">\n",
       "  <thead>\n",
       "    <tr style=\"text-align: right;\">\n",
       "      <th></th>\n",
       "      <th>YEAR</th>\n",
       "      <th>COLLISION_ID</th>\n",
       "      <th>BOROUGH</th>\n",
       "      <th>Total Killed</th>\n",
       "      <th>Total Injured</th>\n",
       "      <th>CONTRIBUTING FACTOR VEHICLE 1</th>\n",
       "      <th>features</th>\n",
       "      <th>prediction</th>\n",
       "    </tr>\n",
       "  </thead>\n",
       "  <tbody>\n",
       "    <tr>\n",
       "      <th>0</th>\n",
       "      <td>2021.0</td>\n",
       "      <td>4455765.0</td>\n",
       "      <td>None</td>\n",
       "      <td>0.0</td>\n",
       "      <td>4.0</td>\n",
       "      <td>Aggressive Driving/Road Rage</td>\n",
       "      <td>[0.0, 4.0]</td>\n",
       "      <td>1</td>\n",
       "    </tr>\n",
       "    <tr>\n",
       "      <th>1</th>\n",
       "      <td>NaN</td>\n",
       "      <td>4513547.0</td>\n",
       "      <td>None</td>\n",
       "      <td>0.0</td>\n",
       "      <td>2.0</td>\n",
       "      <td>Pavement Slippery</td>\n",
       "      <td>[0.0, 2.0]</td>\n",
       "      <td>1</td>\n",
       "    </tr>\n",
       "    <tr>\n",
       "      <th>2</th>\n",
       "      <td>NaN</td>\n",
       "      <td>4541903.0</td>\n",
       "      <td>None</td>\n",
       "      <td>0.0</td>\n",
       "      <td>0.0</td>\n",
       "      <td>Following Too Closely</td>\n",
       "      <td>(0.0, 0.0)</td>\n",
       "      <td>0</td>\n",
       "    </tr>\n",
       "    <tr>\n",
       "      <th>3</th>\n",
       "      <td>2021.0</td>\n",
       "      <td>4456314.0</td>\n",
       "      <td>BROOKLYN</td>\n",
       "      <td>0.0</td>\n",
       "      <td>0.0</td>\n",
       "      <td>Unspecified</td>\n",
       "      <td>(0.0, 0.0)</td>\n",
       "      <td>0</td>\n",
       "    </tr>\n",
       "    <tr>\n",
       "      <th>4</th>\n",
       "      <td>NaN</td>\n",
       "      <td>4486609.0</td>\n",
       "      <td>BROOKLYN</td>\n",
       "      <td>0.0</td>\n",
       "      <td>0.0</td>\n",
       "      <td>None</td>\n",
       "      <td>(0.0, 0.0)</td>\n",
       "      <td>0</td>\n",
       "    </tr>\n",
       "  </tbody>\n",
       "</table>\n",
       "</div>"
      ],
      "text/plain": [
       "     YEAR  COLLISION_ID   BOROUGH  Total Killed  Total Injured  \\\n",
       "0  2021.0     4455765.0      None           0.0            4.0   \n",
       "1     NaN     4513547.0      None           0.0            2.0   \n",
       "2     NaN     4541903.0      None           0.0            0.0   \n",
       "3  2021.0     4456314.0  BROOKLYN           0.0            0.0   \n",
       "4     NaN     4486609.0  BROOKLYN           0.0            0.0   \n",
       "\n",
       "  CONTRIBUTING FACTOR VEHICLE 1    features  prediction  \n",
       "0  Aggressive Driving/Road Rage  [0.0, 4.0]           1  \n",
       "1             Pavement Slippery  [0.0, 2.0]           1  \n",
       "2         Following Too Closely  (0.0, 0.0)           0  \n",
       "3                   Unspecified  (0.0, 0.0)           0  \n",
       "4                          None  (0.0, 0.0)           0  "
      ]
     },
     "execution_count": 17,
     "metadata": {},
     "output_type": "execute_result"
    }
   ],
   "source": [
    "output.head()"
   ]
  },
  {
   "cell_type": "code",
   "execution_count": null,
   "metadata": {},
   "outputs": [
    {
     "ename": "NameError",
     "evalue": "name 'plt' is not defined",
     "output_type": "error",
     "traceback": [
      "\u001b[1;31m---------------------------------------------------------------------------\u001b[0m",
      "\u001b[1;31mNameError\u001b[0m                                 Traceback (most recent call last)",
      "Cell \u001b[1;32mIn[1], line 1\u001b[0m\n\u001b[1;32m----> 1\u001b[0m \u001b[43mplt\u001b[49m\u001b[38;5;241m.\u001b[39mfigure(figsize\u001b[38;5;241m=\u001b[39m(\u001b[38;5;241m10\u001b[39m, \u001b[38;5;241m6\u001b[39m))\n\u001b[0;32m      2\u001b[0m sns\u001b[38;5;241m.\u001b[39mbarplot(x\u001b[38;5;241m=\u001b[39m\u001b[38;5;124m\"\u001b[39m\u001b[38;5;124mYEAR\u001b[39m\u001b[38;5;124m\"\u001b[39m, y\u001b[38;5;241m=\u001b[39m\u001b[38;5;124m\"\u001b[39m\u001b[38;5;124mcount\u001b[39m\u001b[38;5;124m\"\u001b[39m, hue\u001b[38;5;241m=\u001b[39m\u001b[38;5;124m\"\u001b[39m\u001b[38;5;124mprediction\u001b[39m\u001b[38;5;124m\"\u001b[39m, data\u001b[38;5;241m=\u001b[39mdf_pandas)\n\u001b[0;32m      3\u001b[0m plt\u001b[38;5;241m.\u001b[39mtitle(\u001b[38;5;124m'\u001b[39m\u001b[38;5;124mTotal Accident Categories per Year\u001b[39m\u001b[38;5;124m'\u001b[39m)\n",
      "\u001b[1;31mNameError\u001b[0m: name 'plt' is not defined"
     ]
    }
   ],
   "source": [
    "plt.figure(figsize=(10, 6))\n",
    "sns.barplot(x=\"YEAR\", y=\"count\", hue=\"prediction\", data=df_pandas)\n",
    "plt.title('Total Accident Categories per Year')\n",
    "plt.xlabel('Year')\n",
    "plt.ylabel('Total Accidents')\n",
    "plt.legend(title='Category', labels=['Light', 'Moderate', 'Severe'])\n",
    "plt.show()"
   ]
  }
 ],
 "metadata": {
  "kernelspec": {
   "display_name": ".venv",
   "language": "python",
   "name": "python3"
  },
  "language_info": {
   "codemirror_mode": {
    "name": "ipython",
    "version": 3
   },
   "file_extension": ".py",
   "mimetype": "text/x-python",
   "name": "python",
   "nbconvert_exporter": "python",
   "pygments_lexer": "ipython3",
   "version": "3.12.2"
  }
 },
 "nbformat": 4,
 "nbformat_minor": 2
}
